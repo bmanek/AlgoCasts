{
  "nbformat": 4,
  "nbformat_minor": 0,
  "metadata": {
    "colab": {
      "name": "Jupyter Experiment",
      "provenance": [],
      "authorship_tag": "ABX9TyNlsqQ+CcN7T5BgdGmAeaSv",
      "include_colab_link": true
    },
    "kernelspec": {
      "name": "python3",
      "display_name": "Python 3"
    }
  },
  "cells": [
    {
      "cell_type": "markdown",
      "metadata": {
        "id": "view-in-github",
        "colab_type": "text"
      },
      "source": [
        "<a href=\"https://colab.research.google.com/github/bmanek/AlgoCasts/blob/master/Jupyter_Experiment.ipynb\" target=\"_parent\"><img src=\"https://colab.research.google.com/assets/colab-badge.svg\" alt=\"Open In Colab\"/></a>"
      ]
    },
    {
      "cell_type": "markdown",
      "metadata": {
        "id": "knOYbcP8PdP8",
        "colab_type": "text"
      },
      "source": [
        "[link text](https://)\n",
        "\n",
        "#h1!\n",
        "\n",
        "`text block`\n",
        "\n",
        "**bold**\n",
        "\n",
        "_italics_\n",
        "\n",
        "##h2!##\n",
        "\n",
        "####h4\n",
        "\n",
        "##Check out the Quadratic Equation!##\n",
        "\n",
        "$$x = \\frac{{-b \\pm \\sqrt{b^2 - 4ac}}}{2a}$$\n"
      ]
    },
    {
      "cell_type": "code",
      "metadata": {
        "id": "dUjz14xUTEE7",
        "colab_type": "code",
        "colab": {
          "base_uri": "https://localhost:8080/",
          "height": 238
        },
        "outputId": "545c026e-676b-428a-8dc6-44d3b662ec4a"
      },
      "source": [
        "%time\n",
        "print('Table of squares')\n",
        "for i in range(10):\n",
        "  print(f'{i} times {i} = {i*i}')\n"
      ],
      "execution_count": 2,
      "outputs": [
        {
          "output_type": "stream",
          "text": [
            "CPU times: user 1 µs, sys: 0 ns, total: 1 µs\n",
            "Wall time: 4.77 µs\n",
            "Table of squares\n",
            "0 times 0 = 0\n",
            "1 times 1 = 1\n",
            "2 times 2 = 4\n",
            "3 times 3 = 9\n",
            "4 times 4 = 16\n",
            "5 times 5 = 25\n",
            "6 times 6 = 36\n",
            "7 times 7 = 49\n",
            "8 times 8 = 64\n",
            "9 times 9 = 81\n"
          ],
          "name": "stdout"
        }
      ]
    }
  ]
}